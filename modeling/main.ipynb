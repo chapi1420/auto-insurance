{
 "cells": [
  {
   "cell_type": "code",
   "execution_count": 14,
   "metadata": {},
   "outputs": [],
   "source": [
    "# imoporting libraries\n",
    "import pandas as pd\n",
    "import numpy as np\n",
    "import seaborn as sns\n",
    "import matplotlib.pyplot as plt\n",
    "\n",
    "from sklearn.pipeline import Pipeline\n",
    "from sklearn.preprocessing import OneHotEncoder, OrdinalEncoder, StandardScaler\n",
    "from sklearn.impute import SimpleImputer, KNNImputer\n",
    "from sklearn.base import BaseEstimator, TransformerMixin\n",
    "from sklearn.compose import ColumnTransformer\n",
    "from sklearn.model_selection import train_test_split, cross_val_score, RandomizedSearchCV, GridSearchCV, KFold\n",
    "from sklearn.linear_model import LogisticRegression, LinearRegression, SGDRegressor\n",
    "from sklearn.ensemble import RandomForestClassifier, AdaBoostClassifier, GradientBoostingClassifier, BaggingClassifier, RandomForestRegressor\n",
    "from sklearn.neighbors import KNeighborsClassifier, KNeighborsRegressor\n",
    "from sklearn.svm import LinearSVC, SVR\n",
    "from sklearn.tree import DecisionTreeClassifier, DecisionTreeRegressor\n",
    "from sklearn.metrics import ConfusionMatrixDisplay, f1_score, make_scorer, confusion_matrix, mean_squared_error, mean_absolute_error\n",
    "\n",
    "from statsmodels.stats.outliers_influence import variance_inflation_factor\n",
    "from statsmodels.tools.tools import add_constant\n",
    "\n",
    "from xgboost import XGBClassifier, XGBRegressor\n",
    "from catboost import CatBoostClassifier\n",
    "\n",
    "from scipy.stats import randint, uniform"
   ]
  },
  {
   "cell_type": "code",
   "execution_count": 15,
   "metadata": {},
   "outputs": [],
   "source": [
    "# Load the data\n",
    "raw_data = pd.read_csv('/home/nahomnadew/Desktop/10x/auto_insurance/auto/data/car_insurance_claim.csv')"
   ]
  },
  {
   "cell_type": "code",
   "execution_count": 16,
   "metadata": {},
   "outputs": [
    {
     "data": {
      "text/html": [
       "<div>\n",
       "<style scoped>\n",
       "    .dataframe tbody tr th:only-of-type {\n",
       "        vertical-align: middle;\n",
       "    }\n",
       "\n",
       "    .dataframe tbody tr th {\n",
       "        vertical-align: top;\n",
       "    }\n",
       "\n",
       "    .dataframe thead th {\n",
       "        text-align: right;\n",
       "    }\n",
       "</style>\n",
       "<table border=\"1\" class=\"dataframe\">\n",
       "  <thead>\n",
       "    <tr style=\"text-align: right;\">\n",
       "      <th></th>\n",
       "      <th>ID</th>\n",
       "      <th>KIDSDRIV</th>\n",
       "      <th>BIRTH</th>\n",
       "      <th>AGE</th>\n",
       "      <th>HOMEKIDS</th>\n",
       "      <th>YOJ</th>\n",
       "      <th>INCOME</th>\n",
       "      <th>PARENT1</th>\n",
       "      <th>HOME_VAL</th>\n",
       "      <th>MSTATUS</th>\n",
       "      <th>GENDER</th>\n",
       "      <th>EDUCATION</th>\n",
       "      <th>OCCUPATION</th>\n",
       "      <th>TRAVTIME</th>\n",
       "      <th>CAR_USE</th>\n",
       "      <th>BLUEBOOK</th>\n",
       "      <th>TIF</th>\n",
       "      <th>CAR_TYPE</th>\n",
       "      <th>RED_CAR</th>\n",
       "      <th>OLDCLAIM</th>\n",
       "      <th>CLM_FREQ</th>\n",
       "      <th>REVOKED</th>\n",
       "      <th>MVR_PTS</th>\n",
       "      <th>CLM_AMT</th>\n",
       "      <th>CAR_AGE</th>\n",
       "      <th>CLAIM_FLAG</th>\n",
       "      <th>URBANICITY</th>\n",
       "    </tr>\n",
       "  </thead>\n",
       "  <tbody>\n",
       "    <tr>\n",
       "      <th>0</th>\n",
       "      <td>63581743</td>\n",
       "      <td>0</td>\n",
       "      <td>16MAR39</td>\n",
       "      <td>60.0</td>\n",
       "      <td>0</td>\n",
       "      <td>11.0</td>\n",
       "      <td>$67,349</td>\n",
       "      <td>No</td>\n",
       "      <td>$0</td>\n",
       "      <td>z_No</td>\n",
       "      <td>M</td>\n",
       "      <td>PhD</td>\n",
       "      <td>Professional</td>\n",
       "      <td>14</td>\n",
       "      <td>Private</td>\n",
       "      <td>$14,230</td>\n",
       "      <td>11</td>\n",
       "      <td>Minivan</td>\n",
       "      <td>yes</td>\n",
       "      <td>$4,461</td>\n",
       "      <td>2</td>\n",
       "      <td>No</td>\n",
       "      <td>3</td>\n",
       "      <td>$0</td>\n",
       "      <td>18.0</td>\n",
       "      <td>0</td>\n",
       "      <td>Highly Urban/ Urban</td>\n",
       "    </tr>\n",
       "    <tr>\n",
       "      <th>1</th>\n",
       "      <td>132761049</td>\n",
       "      <td>0</td>\n",
       "      <td>21JAN56</td>\n",
       "      <td>43.0</td>\n",
       "      <td>0</td>\n",
       "      <td>11.0</td>\n",
       "      <td>$91,449</td>\n",
       "      <td>No</td>\n",
       "      <td>$257,252</td>\n",
       "      <td>z_No</td>\n",
       "      <td>M</td>\n",
       "      <td>z_High School</td>\n",
       "      <td>z_Blue Collar</td>\n",
       "      <td>22</td>\n",
       "      <td>Commercial</td>\n",
       "      <td>$14,940</td>\n",
       "      <td>1</td>\n",
       "      <td>Minivan</td>\n",
       "      <td>yes</td>\n",
       "      <td>$0</td>\n",
       "      <td>0</td>\n",
       "      <td>No</td>\n",
       "      <td>0</td>\n",
       "      <td>$0</td>\n",
       "      <td>1.0</td>\n",
       "      <td>0</td>\n",
       "      <td>Highly Urban/ Urban</td>\n",
       "    </tr>\n",
       "    <tr>\n",
       "      <th>2</th>\n",
       "      <td>921317019</td>\n",
       "      <td>0</td>\n",
       "      <td>18NOV51</td>\n",
       "      <td>48.0</td>\n",
       "      <td>0</td>\n",
       "      <td>11.0</td>\n",
       "      <td>$52,881</td>\n",
       "      <td>No</td>\n",
       "      <td>$0</td>\n",
       "      <td>z_No</td>\n",
       "      <td>M</td>\n",
       "      <td>Bachelors</td>\n",
       "      <td>Manager</td>\n",
       "      <td>26</td>\n",
       "      <td>Private</td>\n",
       "      <td>$21,970</td>\n",
       "      <td>1</td>\n",
       "      <td>Van</td>\n",
       "      <td>yes</td>\n",
       "      <td>$0</td>\n",
       "      <td>0</td>\n",
       "      <td>No</td>\n",
       "      <td>2</td>\n",
       "      <td>$0</td>\n",
       "      <td>10.0</td>\n",
       "      <td>0</td>\n",
       "      <td>Highly Urban/ Urban</td>\n",
       "    </tr>\n",
       "    <tr>\n",
       "      <th>3</th>\n",
       "      <td>727598473</td>\n",
       "      <td>0</td>\n",
       "      <td>05MAR64</td>\n",
       "      <td>35.0</td>\n",
       "      <td>1</td>\n",
       "      <td>10.0</td>\n",
       "      <td>$16,039</td>\n",
       "      <td>No</td>\n",
       "      <td>$124,191</td>\n",
       "      <td>Yes</td>\n",
       "      <td>z_F</td>\n",
       "      <td>z_High School</td>\n",
       "      <td>Clerical</td>\n",
       "      <td>5</td>\n",
       "      <td>Private</td>\n",
       "      <td>$4,010</td>\n",
       "      <td>4</td>\n",
       "      <td>z_SUV</td>\n",
       "      <td>no</td>\n",
       "      <td>$38,690</td>\n",
       "      <td>2</td>\n",
       "      <td>No</td>\n",
       "      <td>3</td>\n",
       "      <td>$0</td>\n",
       "      <td>10.0</td>\n",
       "      <td>0</td>\n",
       "      <td>Highly Urban/ Urban</td>\n",
       "    </tr>\n",
       "    <tr>\n",
       "      <th>4</th>\n",
       "      <td>450221861</td>\n",
       "      <td>0</td>\n",
       "      <td>05JUN48</td>\n",
       "      <td>51.0</td>\n",
       "      <td>0</td>\n",
       "      <td>14.0</td>\n",
       "      <td>NaN</td>\n",
       "      <td>No</td>\n",
       "      <td>$306,251</td>\n",
       "      <td>Yes</td>\n",
       "      <td>M</td>\n",
       "      <td>&lt;High School</td>\n",
       "      <td>z_Blue Collar</td>\n",
       "      <td>32</td>\n",
       "      <td>Private</td>\n",
       "      <td>$15,440</td>\n",
       "      <td>7</td>\n",
       "      <td>Minivan</td>\n",
       "      <td>yes</td>\n",
       "      <td>$0</td>\n",
       "      <td>0</td>\n",
       "      <td>No</td>\n",
       "      <td>0</td>\n",
       "      <td>$0</td>\n",
       "      <td>6.0</td>\n",
       "      <td>0</td>\n",
       "      <td>Highly Urban/ Urban</td>\n",
       "    </tr>\n",
       "  </tbody>\n",
       "</table>\n",
       "</div>"
      ],
      "text/plain": [
       "          ID  KIDSDRIV    BIRTH   AGE  HOMEKIDS   YOJ   INCOME PARENT1  \\\n",
       "0   63581743         0  16MAR39  60.0         0  11.0  $67,349      No   \n",
       "1  132761049         0  21JAN56  43.0         0  11.0  $91,449      No   \n",
       "2  921317019         0  18NOV51  48.0         0  11.0  $52,881      No   \n",
       "3  727598473         0  05MAR64  35.0         1  10.0  $16,039      No   \n",
       "4  450221861         0  05JUN48  51.0         0  14.0      NaN      No   \n",
       "\n",
       "   HOME_VAL MSTATUS GENDER      EDUCATION     OCCUPATION  TRAVTIME  \\\n",
       "0        $0    z_No      M            PhD   Professional        14   \n",
       "1  $257,252    z_No      M  z_High School  z_Blue Collar        22   \n",
       "2        $0    z_No      M      Bachelors        Manager        26   \n",
       "3  $124,191     Yes    z_F  z_High School       Clerical         5   \n",
       "4  $306,251     Yes      M   <High School  z_Blue Collar        32   \n",
       "\n",
       "      CAR_USE BLUEBOOK  TIF CAR_TYPE RED_CAR OLDCLAIM  CLM_FREQ REVOKED  \\\n",
       "0     Private  $14,230   11  Minivan     yes   $4,461         2      No   \n",
       "1  Commercial  $14,940    1  Minivan     yes       $0         0      No   \n",
       "2     Private  $21,970    1      Van     yes       $0         0      No   \n",
       "3     Private   $4,010    4    z_SUV      no  $38,690         2      No   \n",
       "4     Private  $15,440    7  Minivan     yes       $0         0      No   \n",
       "\n",
       "   MVR_PTS CLM_AMT  CAR_AGE  CLAIM_FLAG           URBANICITY  \n",
       "0        3      $0     18.0           0  Highly Urban/ Urban  \n",
       "1        0      $0      1.0           0  Highly Urban/ Urban  \n",
       "2        2      $0     10.0           0  Highly Urban/ Urban  \n",
       "3        3      $0     10.0           0  Highly Urban/ Urban  \n",
       "4        0      $0      6.0           0  Highly Urban/ Urban  "
      ]
     },
     "execution_count": 16,
     "metadata": {},
     "output_type": "execute_result"
    }
   ],
   "source": [
    "# Display all columns\n",
    "pd.set_option('display.max_columns', None)\n",
    "raw_data.head()"
   ]
  },
  {
   "cell_type": "code",
   "execution_count": 17,
   "metadata": {},
   "outputs": [],
   "source": [
    "data_df = raw_data.copy()\n"
   ]
  },
  {
   "cell_type": "code",
   "execution_count": 18,
   "metadata": {},
   "outputs": [],
   "source": [
    "#rename the columns to be more descriptive\n",
    "col_names = {\n",
    "    'KIDSDRIV': 'num_young_drivers',\n",
    "    'BIRTH': 'date_of_birth',\n",
    "    'AGE': 'age',\n",
    "    'HOMEKIDS': 'num_of_children',\n",
    "    'YOJ': 'years_job_held_for',\n",
    "    'INCOME': 'income',\n",
    "    'PARENT1': 'single_parent',\n",
    "    'HOME_VAL': 'value_of_home',\n",
    "    'MSTATUS': 'married',\n",
    "    'GENDER': 'gender',\n",
    "    'EDUCATION': 'highest_education',\n",
    "    'OCCUPATION': 'occupation',\n",
    "    'TRAVTIME': 'commute_dist',\n",
    "    'CAR_USE': 'type_of_use',\n",
    "    'BLUEBOOK': 'vehicle_value',\n",
    "    'TIF': 'policy_tenure',\n",
    "    'CAR_TYPE': 'vehicle_type',\n",
    "    'RED_CAR': 'red_vehicle',\n",
    "    'OLDCLAIM': '5_year_total_claims_value',\n",
    "    'CLM_FREQ': '5_year_num_of_claims',\n",
    "    'REVOKED': 'licence_revoked',\n",
    "    'MVR_PTS': 'license_points',\n",
    "    'CLM_AMT': 'new_claim_value',\n",
    "    'CAR_AGE': 'vehicle_age',\n",
    "    'CLAIM_FLAG': 'is_claim',\n",
    "    'URBANICITY': 'address_type'\n",
    "}\n",
    "\n",
    "# Update column names\n",
    "data_df.rename(columns=col_names, inplace=True)"
   ]
  },
  {
   "cell_type": "code",
   "execution_count": 20,
   "metadata": {},
   "outputs": [
    {
     "name": "stdout",
     "output_type": "stream",
     "text": [
      "<class 'pandas.core.frame.DataFrame'>\n",
      "RangeIndex: 10302 entries, 0 to 10301\n",
      "Data columns (total 27 columns):\n",
      " #   Column                     Non-Null Count  Dtype  \n",
      "---  ------                     --------------  -----  \n",
      " 0   ID                         10302 non-null  int64  \n",
      " 1   num_young_drivers          10302 non-null  int64  \n",
      " 2   date_of_birth              10302 non-null  object \n",
      " 3   age                        10295 non-null  float64\n",
      " 4   num_of_children            10302 non-null  int64  \n",
      " 5   years_job_held_for         9754 non-null   float64\n",
      " 6   income                     9732 non-null   object \n",
      " 7   single_parent              10302 non-null  object \n",
      " 8   value_of_home              9727 non-null   object \n",
      " 9   married                    10302 non-null  object \n",
      " 10  gender                     10302 non-null  object \n",
      " 11  highest_education          10302 non-null  object \n",
      " 12  occupation                 9637 non-null   object \n",
      " 13  commute_dist               10302 non-null  int64  \n",
      " 14  type_of_use                10302 non-null  object \n",
      " 15  vehicle_value              10302 non-null  object \n",
      " 16  policy_tenure              10302 non-null  int64  \n",
      " 17  vehicle_type               10302 non-null  object \n",
      " 18  red_vehicle                10302 non-null  object \n",
      " 19  5_year_total_claims_value  10302 non-null  object \n",
      " 20  5_year_num_of_claims       10302 non-null  int64  \n",
      " 21  licence_revoked            10302 non-null  object \n",
      " 22  license_points             10302 non-null  int64  \n",
      " 23  new_claim_value            10302 non-null  object \n",
      " 24  vehicle_age                9663 non-null   float64\n",
      " 25  is_claim                   10302 non-null  int64  \n",
      " 26  address_type               10302 non-null  object \n",
      "dtypes: float64(3), int64(8), object(16)\n",
      "memory usage: 2.1+ MB\n"
     ]
    }
   ],
   "source": [
    "data_df.info()\n",
    "#we see the column manes have changed to be more descriptive."
   ]
  },
  {
   "cell_type": "code",
   "execution_count": 21,
   "metadata": {},
   "outputs": [
    {
     "data": {
      "text/plain": [
       "1"
      ]
     },
     "execution_count": 21,
     "metadata": {},
     "output_type": "execute_result"
    }
   ],
   "source": [
    "# che the number of duplicates in the data\n",
    "data_df.duplicated().sum()"
   ]
  },
  {
   "cell_type": "markdown",
   "metadata": {},
   "source": [
    "we can see we have one duplicate row. our next move should be remove the duplicate row."
   ]
  },
  {
   "cell_type": "code",
   "execution_count": 25,
   "metadata": {},
   "outputs": [
    {
     "name": "stdout",
     "output_type": "stream",
     "text": [
      "No duplicates found, duplicates have been removed\n"
     ]
    }
   ],
   "source": [
    "data_df.drop_duplicates(inplace=True)\n",
    "if data_df.duplicated().sum()==0:\n",
    "    print('No duplicates found, duplicates have been removed')"
   ]
  },
  {
   "cell_type": "markdown",
   "metadata": {},
   "source": [
    "## removing unnecessary things from strings"
   ]
  },
  {
   "cell_type": "code",
   "execution_count": 38,
   "metadata": {},
   "outputs": [
    {
     "name": "stdout",
     "output_type": "stream",
     "text": [
      "   income  value_of_home  vehicle_value  5_year_total_claims_value  \\\n",
      "0   67349              0          14230                       4461   \n",
      "1   91449         257252          14940                          0   \n",
      "2   52881              0          21970                          0   \n",
      "3   16039         124191           4010                      38690   \n",
      "4    <NA>         306251          15440                          0   \n",
      "\n",
      "   new_claim_value  \n",
      "0                0  \n",
      "1                0  \n",
      "2                0  \n",
      "3                0  \n",
      "4                0  \n",
      "successfully removed currency sign\n"
     ]
    }
   ],
   "source": [
    "#replace '$' sign in the currency columns\n",
    "col_currency = ['income', 'value_of_home', 'vehicle_value', '5_year_total_claims_value', 'new_claim_value']\n",
    "def remove_currency_sign(data, cols: list):\n",
    "    for col in cols:\n",
    "        data[col] = data[col].replace('[//$,]', '', regex=True).astype('Int64')\n",
    "    return data\n",
    "data_df = remove_currency_sign(data_df, col_currency)\n",
    "print(data_df[col_currency].head())\n",
    "print(\"successfully removed currency sign\")\n"
   ]
  },
  {
   "cell_type": "code",
   "execution_count": 41,
   "metadata": {},
   "outputs": [
    {
     "name": "stdout",
     "output_type": "stream",
     "text": [
      "  married gender highest_education    occupation vehicle_type  \\\n",
      "0      No      M               PhD  Professional      Minivan   \n",
      "1      No      M       High School   Blue Collar      Minivan   \n",
      "2      No      M         Bachelors       Manager          Van   \n",
      "3     Yes      F       High School      Clerical          SUV   \n",
      "4     Yes      M      <High School   Blue Collar      Minivan   \n",
      "\n",
      "          address_type  \n",
      "0  Highly Urban/ Urban  \n",
      "1  Highly Urban/ Urban  \n",
      "2  Highly Urban/ Urban  \n",
      "3  Highly Urban/ Urban  \n",
      "4  Highly Urban/ Urban  \n",
      "succssfully removed the z_ prefix from the columns\n"
     ]
    }
   ],
   "source": [
    "z_prefix_cols = ['married', 'gender', 'highest_education', 'occupation', 'vehicle_type', 'address_type']\n",
    "def remove_z_prefix(data, cols: list):\n",
    "    for col in cols:\n",
    "        data[col] = data[col].replace('z_', '', regex=True)\n",
    "    return data\n",
    "data_df = remove_z_prefix(data_df, z_prefix_cols)\n",
    "data_df.head()\n",
    "print(data_df[z_prefix_cols].head())\n",
    "print(\"succssfully removed the z_ prefix from the columns\")"
   ]
  },
  {
   "cell_type": "markdown",
   "metadata": {},
   "source": [
    "now, we can drop unnecessary columns from the data set. for now, we will be removing date of birth and ID features"
   ]
  },
  {
   "cell_type": "code",
   "execution_count": 50,
   "metadata": {},
   "outputs": [
    {
     "data": {
      "text/html": [
       "<div>\n",
       "<style scoped>\n",
       "    .dataframe tbody tr th:only-of-type {\n",
       "        vertical-align: middle;\n",
       "    }\n",
       "\n",
       "    .dataframe tbody tr th {\n",
       "        vertical-align: top;\n",
       "    }\n",
       "\n",
       "    .dataframe thead th {\n",
       "        text-align: right;\n",
       "    }\n",
       "</style>\n",
       "<table border=\"1\" class=\"dataframe\">\n",
       "  <thead>\n",
       "    <tr style=\"text-align: right;\">\n",
       "      <th></th>\n",
       "      <th>num_young_drivers</th>\n",
       "      <th>age</th>\n",
       "      <th>num_of_children</th>\n",
       "      <th>years_job_held_for</th>\n",
       "      <th>income</th>\n",
       "      <th>single_parent</th>\n",
       "      <th>value_of_home</th>\n",
       "      <th>married</th>\n",
       "      <th>gender</th>\n",
       "      <th>highest_education</th>\n",
       "      <th>occupation</th>\n",
       "      <th>commute_dist</th>\n",
       "      <th>type_of_use</th>\n",
       "      <th>vehicle_value</th>\n",
       "      <th>policy_tenure</th>\n",
       "      <th>vehicle_type</th>\n",
       "      <th>red_vehicle</th>\n",
       "      <th>5_year_total_claims_value</th>\n",
       "      <th>5_year_num_of_claims</th>\n",
       "      <th>licence_revoked</th>\n",
       "      <th>license_points</th>\n",
       "      <th>new_claim_value</th>\n",
       "      <th>vehicle_age</th>\n",
       "      <th>is_claim</th>\n",
       "      <th>address_type</th>\n",
       "    </tr>\n",
       "  </thead>\n",
       "  <tbody>\n",
       "    <tr>\n",
       "      <th>0</th>\n",
       "      <td>0</td>\n",
       "      <td>60.0</td>\n",
       "      <td>0</td>\n",
       "      <td>11.0</td>\n",
       "      <td>67349</td>\n",
       "      <td>No</td>\n",
       "      <td>0</td>\n",
       "      <td>No</td>\n",
       "      <td>M</td>\n",
       "      <td>PhD</td>\n",
       "      <td>Professional</td>\n",
       "      <td>14</td>\n",
       "      <td>Private</td>\n",
       "      <td>14230</td>\n",
       "      <td>11</td>\n",
       "      <td>Minivan</td>\n",
       "      <td>yes</td>\n",
       "      <td>4461</td>\n",
       "      <td>2</td>\n",
       "      <td>No</td>\n",
       "      <td>3</td>\n",
       "      <td>0</td>\n",
       "      <td>18.0</td>\n",
       "      <td>0</td>\n",
       "      <td>Highly Urban/ Urban</td>\n",
       "    </tr>\n",
       "    <tr>\n",
       "      <th>1</th>\n",
       "      <td>0</td>\n",
       "      <td>43.0</td>\n",
       "      <td>0</td>\n",
       "      <td>11.0</td>\n",
       "      <td>91449</td>\n",
       "      <td>No</td>\n",
       "      <td>257252</td>\n",
       "      <td>No</td>\n",
       "      <td>M</td>\n",
       "      <td>High School</td>\n",
       "      <td>Blue Collar</td>\n",
       "      <td>22</td>\n",
       "      <td>Commercial</td>\n",
       "      <td>14940</td>\n",
       "      <td>1</td>\n",
       "      <td>Minivan</td>\n",
       "      <td>yes</td>\n",
       "      <td>0</td>\n",
       "      <td>0</td>\n",
       "      <td>No</td>\n",
       "      <td>0</td>\n",
       "      <td>0</td>\n",
       "      <td>1.0</td>\n",
       "      <td>0</td>\n",
       "      <td>Highly Urban/ Urban</td>\n",
       "    </tr>\n",
       "    <tr>\n",
       "      <th>2</th>\n",
       "      <td>0</td>\n",
       "      <td>48.0</td>\n",
       "      <td>0</td>\n",
       "      <td>11.0</td>\n",
       "      <td>52881</td>\n",
       "      <td>No</td>\n",
       "      <td>0</td>\n",
       "      <td>No</td>\n",
       "      <td>M</td>\n",
       "      <td>Bachelors</td>\n",
       "      <td>Manager</td>\n",
       "      <td>26</td>\n",
       "      <td>Private</td>\n",
       "      <td>21970</td>\n",
       "      <td>1</td>\n",
       "      <td>Van</td>\n",
       "      <td>yes</td>\n",
       "      <td>0</td>\n",
       "      <td>0</td>\n",
       "      <td>No</td>\n",
       "      <td>2</td>\n",
       "      <td>0</td>\n",
       "      <td>10.0</td>\n",
       "      <td>0</td>\n",
       "      <td>Highly Urban/ Urban</td>\n",
       "    </tr>\n",
       "    <tr>\n",
       "      <th>3</th>\n",
       "      <td>0</td>\n",
       "      <td>35.0</td>\n",
       "      <td>1</td>\n",
       "      <td>10.0</td>\n",
       "      <td>16039</td>\n",
       "      <td>No</td>\n",
       "      <td>124191</td>\n",
       "      <td>Yes</td>\n",
       "      <td>F</td>\n",
       "      <td>High School</td>\n",
       "      <td>Clerical</td>\n",
       "      <td>5</td>\n",
       "      <td>Private</td>\n",
       "      <td>4010</td>\n",
       "      <td>4</td>\n",
       "      <td>SUV</td>\n",
       "      <td>no</td>\n",
       "      <td>38690</td>\n",
       "      <td>2</td>\n",
       "      <td>No</td>\n",
       "      <td>3</td>\n",
       "      <td>0</td>\n",
       "      <td>10.0</td>\n",
       "      <td>0</td>\n",
       "      <td>Highly Urban/ Urban</td>\n",
       "    </tr>\n",
       "    <tr>\n",
       "      <th>4</th>\n",
       "      <td>0</td>\n",
       "      <td>51.0</td>\n",
       "      <td>0</td>\n",
       "      <td>14.0</td>\n",
       "      <td>&lt;NA&gt;</td>\n",
       "      <td>No</td>\n",
       "      <td>306251</td>\n",
       "      <td>Yes</td>\n",
       "      <td>M</td>\n",
       "      <td>&lt;High School</td>\n",
       "      <td>Blue Collar</td>\n",
       "      <td>32</td>\n",
       "      <td>Private</td>\n",
       "      <td>15440</td>\n",
       "      <td>7</td>\n",
       "      <td>Minivan</td>\n",
       "      <td>yes</td>\n",
       "      <td>0</td>\n",
       "      <td>0</td>\n",
       "      <td>No</td>\n",
       "      <td>0</td>\n",
       "      <td>0</td>\n",
       "      <td>6.0</td>\n",
       "      <td>0</td>\n",
       "      <td>Highly Urban/ Urban</td>\n",
       "    </tr>\n",
       "  </tbody>\n",
       "</table>\n",
       "</div>"
      ],
      "text/plain": [
       "   num_young_drivers   age  num_of_children  years_job_held_for  income  \\\n",
       "0                  0  60.0                0                11.0   67349   \n",
       "1                  0  43.0                0                11.0   91449   \n",
       "2                  0  48.0                0                11.0   52881   \n",
       "3                  0  35.0                1                10.0   16039   \n",
       "4                  0  51.0                0                14.0    <NA>   \n",
       "\n",
       "  single_parent  value_of_home married gender highest_education    occupation  \\\n",
       "0            No              0      No      M               PhD  Professional   \n",
       "1            No         257252      No      M       High School   Blue Collar   \n",
       "2            No              0      No      M         Bachelors       Manager   \n",
       "3            No         124191     Yes      F       High School      Clerical   \n",
       "4            No         306251     Yes      M      <High School   Blue Collar   \n",
       "\n",
       "   commute_dist type_of_use  vehicle_value  policy_tenure vehicle_type  \\\n",
       "0            14     Private          14230             11      Minivan   \n",
       "1            22  Commercial          14940              1      Minivan   \n",
       "2            26     Private          21970              1          Van   \n",
       "3             5     Private           4010              4          SUV   \n",
       "4            32     Private          15440              7      Minivan   \n",
       "\n",
       "  red_vehicle  5_year_total_claims_value  5_year_num_of_claims  \\\n",
       "0         yes                       4461                     2   \n",
       "1         yes                          0                     0   \n",
       "2         yes                          0                     0   \n",
       "3          no                      38690                     2   \n",
       "4         yes                          0                     0   \n",
       "\n",
       "  licence_revoked  license_points  new_claim_value  vehicle_age  is_claim  \\\n",
       "0              No               3                0         18.0         0   \n",
       "1              No               0                0          1.0         0   \n",
       "2              No               2                0         10.0         0   \n",
       "3              No               3                0         10.0         0   \n",
       "4              No               0                0          6.0         0   \n",
       "\n",
       "          address_type  \n",
       "0  Highly Urban/ Urban  \n",
       "1  Highly Urban/ Urban  \n",
       "2  Highly Urban/ Urban  \n",
       "3  Highly Urban/ Urban  \n",
       "4  Highly Urban/ Urban  "
      ]
     },
     "execution_count": 50,
     "metadata": {},
     "output_type": "execute_result"
    }
   ],
   "source": [
    "def remove_unnecessary_columns(data):\n",
    "    if 'date_of_birth'  in data.columns:\n",
    "        data.drop(columns=['date_of_birth'], inplace=True)\n",
    "    if 'ID' in data.columns:\n",
    "        data.drop(columns=['ID'], inplace=True)\n",
    "    return data\n",
    "data_df = remove_unnecessary_columns(data_df)\n",
    "data_df.head()\n"
   ]
  },
  {
   "cell_type": "markdown",
   "metadata": {},
   "source": [
    "## creating train test split\n",
    "we will be using the concept of stratifying in order to make a fair destribution of data"
   ]
  },
  {
   "cell_type": "code",
   "execution_count": 58,
   "metadata": {},
   "outputs": [
    {
     "name": "stdout",
     "output_type": "stream",
     "text": [
      "Empty DataFrame\n",
      "Columns: [num_young_drivers, age, num_of_children, years_job_held_for, income, single_parent, value_of_home, married, gender, highest_education, occupation, commute_dist, type_of_use, vehicle_value, policy_tenure, vehicle_type, red_vehicle, 5_year_total_claims_value, 5_year_num_of_claims, licence_revoked, license_points, new_claim_value, vehicle_age, is_claim, address_type]\n",
      "Index: []\n",
      "-> here are no claims with a claim value greater than 0 and no claim\n"
     ]
    }
   ],
   "source": [
    "#lets check if there are new claims with a claim value greater than 0 and no claim\n",
    "check = (data_df['new_claim_value']>0 )& (data_df['is_claim']==0)\n",
    "print(data_df[check])\n",
    "print(\"-> here are no claims with a claim value greater than 0 and no claim\")"
   ]
  },
  {
   "cell_type": "code",
   "execution_count": 72,
   "metadata": {},
   "outputs": [
    {
     "data": {
      "image/png": "[encoded data removed]",
      "text/plain": [
       "<Figure size 640x480 with 1 Axes>"
      ]
     },
     "metadata": {},
     "output_type": "display_data"
    }
   ],
   "source": [
    "sns.histplot(data_df['new_claim_value'], bins=8, color='green')\n",
    "plt.show()\n"
   ]
  },
  {
   "cell_type": "markdown",
   "metadata": {},
   "source": [
    "the graph is skewed to the right. doing linear stratifying might harm the fair representation of daata in representing the data when splitting into test and train data"
   ]
  },
  {
   "cell_type": "code",
   "execution_count": 73,
   "metadata": {},
   "outputs": [],
   "source": [
    "# Define bins\n",
    "bins = [0.0, 5000, 10_000, 15_000, 20_000, 25_000, 30_000, 35_000, 40_000, 45_000, 50_000, np.inf]\n",
    "# Define bin labels\n",
    "labels = np.arange(1, 12)\n",
    "\n",
    "# Apply the bins using cut\n",
    "data_df['claim_value_cat'] = pd.cut(data_df['new_claim_value'], bins = bins, labels= labels, include_lowest=True)"
   ]
  },
  {
   "cell_type": "code",
   "execution_count": 76,
   "metadata": {},
   "outputs": [
    {
     "data": {
      "text/plain": [
       "<Axes: ylabel='claim_value_cat'>"
      ]
     },
     "execution_count": 76,
     "metadata": {},
     "output_type": "execute_result"
    },
    {
     "data": {
      "image/png": "[encoded data removed]",
      "text/plain": [
       "<Figure size 640x480 with 1 Axes>"
      ]
     },
     "metadata": {},
     "output_type": "display_data"
    }
   ],
   "source": [
    "sns.barplot(data_df['claim_value_cat'], color='green')"
   ]
  },
  {
   "cell_type": "code",
   "execution_count": 77,
   "metadata": {},
   "outputs": [],
   "source": [
    "\n",
    "x = data_df.copy()\n",
    "y = data_df['is_claim']\n",
    "\n",
    "#drop the target column from the features\n",
    "x.drop(columns=['is_claim', 'new_claim_value'], inplace=True)\n",
    "\n",
    "x_train, x_test, y_train, y_test = train_test_split(x, y, test_size=0.2, random_state=42, stratify=x['claim_value_cat'])\n",
    "\n"
   ]
  },
  {
   "cell_type": "code",
   "execution_count": 79,
   "metadata": {},
   "outputs": [
    {
     "name": "stdout",
     "output_type": "stream",
     "text": [
      "Train ratio: 0.26\n",
      "Test ratio: 0.27\n",
      "The split is fair\n"
     ]
    }
   ],
   "source": [
    "#test the fairness of the split\n",
    "train_ratio = round(y_train.sum()/len(y_train), 2)\n",
    "test_ratio = round(y_test.sum()/len(y_test), 2)\n",
    "print(f'Train ratio: {train_ratio}')\n",
    "print(f'Test ratio: {test_ratio}')\n",
    "\n",
    "#compare the ratios\n",
    "if (train_ratio + 0.05*train_ratio) > test_ratio > (train_ratio - 0.05*train_ratio):\n",
    "    print('The split is fair')\n",
    "else:\n",
    "    print('The split is not fair')"
   ]
  },
  {
   "cell_type": "markdown",
   "metadata": {},
   "source": [
    "now, taken we have made the split, we can remove the stratification category from x_train and x_test data sets"
   ]
  },
  {
   "cell_type": "code",
   "execution_count": 91,
   "metadata": {},
   "outputs": [
    {
     "name": "stdout",
     "output_type": "stream",
     "text": [
      "claim_value_cat column not found\n",
      "claim_value_cat column not found\n"
     ]
    }
   ],
   "source": [
    "for d_set in [x_train, x_test]:\n",
    "\n",
    "    if 'claim_value_cat' in d_set.columns:\n",
    "        d_set.drop(columns=['claim_value_cat'], inplace=True)\n",
    "        print('claim_value_cat column has been removed')\n",
    "    else:\n",
    "        print('claim_value_cat column not found')"
   ]
  },
  {
   "cell_type": "code",
   "execution_count": null,
   "metadata": {},
   "outputs": [],
   "source": []
  }
 ],
 "metadata": {
  "kernelspec": {
   "display_name": "envaut",
   "language": "python",
   "name": "python3"
  },
  "language_info": {
   "codemirror_mode": {
    "name": "ipython",
    "version": 3
   },
   "file_extension": ".py",
   "mimetype": "text/x-python",
   "name": "python",
   "nbconvert_exporter": "python",
   "pygments_lexer": "ipython3",
   "version": "3.12.3"
  }
 },
 "nbformat": 4,
 "nbformat_minor": 2
}
